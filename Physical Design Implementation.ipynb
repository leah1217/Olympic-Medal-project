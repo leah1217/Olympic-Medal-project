{
 "cells": [
  {
   "cell_type": "markdown",
   "metadata": {},
   "source": [
    "# FINAL PROJECT - TEAM 5\n",
    "## Physical Design"
   ]
  },
  {
   "cell_type": "markdown",
   "metadata": {},
   "source": [
    "### Team members:\n",
    "   * Team Lead: Leah Ngan Lai\n",
    "   * Kevin McDonald\n",
    "   * Hsinke Ku\n",
    "   * Thomas Lyons\n",
    "   * Zachary Harvey\n",
    "### Contents:\n",
    "#### 2a&b. Create small tables, Implement the SQL DDL and Prepare dataframe (including 2a and 2b):\n",
    "   * 2.1. Create 'olympic' table\n",
    "   * 2.2. Create 'sport' table\n",
    "   * 2.3. Create 'country' table\n",
    "   * 2.4. Create 'medal' table\n",
    "   * 2.5. Create 'discipline' table\n",
    "   * 2.6. Create 'athlete' table\n",
    "   * 2.7. Create 'event' table\n",
    "   * 2.8. Create 'participation' table\n",
    "#### 2c. Create big table, set up connection and Insert data into tables generated in 2a"
   ]
  },
  {
   "cell_type": "code",
   "execution_count": null,
   "metadata": {},
   "outputs": [],
   "source": [
    "import pandas as pd\n",
    "#importing package pandas"
   ]
  },
  {
   "cell_type": "code",
   "execution_count": null,
   "metadata": {},
   "outputs": [],
   "source": [
    "from IPython.core.interactiveshell import InteractiveShell\n",
    "InteractiveShell.ast_node_interactivity = \"all\"\n",
    "#viewing outputs of multiple commands"
   ]
  },
  {
   "cell_type": "code",
   "execution_count": null,
   "metadata": {},
   "outputs": [],
   "source": [
    "# we first read the flat - csv file.\n",
    "olympic_medals = pd.read_csv('olympic_medals.csv')\n",
    "# we rename the columns to make it easier without upper-case words\n",
    "olympic_medals = olympic_medals.rename(columns={'Games':'games', \n",
    "                                                'Year':'year', \n",
    "                                                'City':'city', \n",
    "                                                'Sport':'sport', \n",
    "                                                'Discipline':'discipline', \n",
    "                                                'Athlete':'athlete',\n",
    "                                                'Gender':'gender', \n",
    "                                                'Event':'event', \n",
    "                                                'Medal':'medal', \n",
    "                                                'Country':'country',\n",
    "                                                'Country Code':'country_code',\n",
    "                                                'Population':'population',\n",
    "                                                'GDP per Capita':'gdp_per_capita'})\n",
    "# we noticed that population should be integer, so we convert float to integer\n",
    "olympic_medals['population'] = olympic_medals['population'].astype('Int64')\n",
    "#print the dataset\n",
    "olympic_medals"
   ]
  },
  {
   "cell_type": "markdown",
   "metadata": {},
   "source": [
    "# 2. Create small tables, Implement the SQL DDL and Prepare dataframe\n",
    "# (Including 2a and 2b)"
   ]
  },
  {
   "cell_type": "markdown",
   "metadata": {},
   "source": [
    "## 2.1. Create 'olympic' table \n",
    "   * olympic_id (Primary Key) 🔑 \n",
    "   * games\n",
    "   * year\n",
    "   * city"
   ]
  },
  {
   "cell_type": "code",
   "execution_count": null,
   "metadata": {},
   "outputs": [],
   "source": [
    "# create Olympic table\n",
    "olympic = olympic_medals[['games', 'year', 'city']]\n",
    "olympic = olympic.drop_duplicates()\n",
    "olympic = olympic.reset_index(drop=True)\n",
    "olympic = olympic.reset_index().rename(columns={'index': 'olympic_id'})\n",
    "olympic"
   ]
  },
  {
   "cell_type": "code",
   "execution_count": null,
   "metadata": {},
   "outputs": [],
   "source": [
    "# Merge table\n",
    "o_olympic_medals = olympic_medals.merge(olympic,\n",
    "                                        how='left',\n",
    "                                        left_on=['games', 'year', 'city'],\n",
    "                                        right_on=['games', 'year', 'city']).drop(columns=['games',\n",
    "                                                                                          'year',\n",
    "                                                                                          'city'])\n",
    "o_olympic_medals"
   ]
  },
  {
   "cell_type": "markdown",
   "metadata": {},
   "source": [
    "## 2.2. Create 'sport' table\n",
    "   * sport_id (Primary key) 🔑 \n",
    "   * sport"
   ]
  },
  {
   "cell_type": "code",
   "execution_count": null,
   "metadata": {},
   "outputs": [],
   "source": [
    "#Sport\n",
    "sport = o_olympic_medals[['sport']]\n",
    "sport = sport.drop_duplicates()\n",
    "sport = sport.reset_index(drop=True)\n",
    "sport = sport.reset_index().rename(columns={'index': 'sport_id'})\n",
    "sport"
   ]
  },
  {
   "cell_type": "code",
   "execution_count": null,
   "metadata": {},
   "outputs": [],
   "source": [
    "# merge table\n",
    "s_olympic_medals = o_olympic_medals.merge(sport,\n",
    "                                          how='left',\n",
    "                                          left_on=['sport'],\n",
    "                                          right_on=['sport']).drop(columns=['sport'])\n",
    "s_olympic_medals"
   ]
  },
  {
   "cell_type": "markdown",
   "metadata": {},
   "source": [
    "## 2.3. Create 'country' table\n",
    "* country_id (Primary Key) 🔑 \n",
    "* country\n",
    "* country_code\n",
    "* population\n",
    "* gdp_per_capita"
   ]
  },
  {
   "cell_type": "code",
   "execution_count": null,
   "metadata": {},
   "outputs": [],
   "source": [
    "#country\n",
    "country = s_olympic_medals[['country','country_code','population','gdp_per_capita']]\n",
    "country = country.dropna()\n",
    "country = country.drop_duplicates()\n",
    "country = country.reset_index(drop=True)\n",
    "country = country.reset_index().rename(columns={'index': 'country_id'})\n",
    "country"
   ]
  },
  {
   "cell_type": "code",
   "execution_count": null,
   "metadata": {},
   "outputs": [],
   "source": [
    "#merge table\n",
    "c_olympic_medals = s_olympic_medals.merge(country,\n",
    "                                          how='left',\n",
    "                                          left_on=['country',\n",
    "                                                   'country_code',\n",
    "                                                   'population',\n",
    "                                                   'gdp_per_capita'], \n",
    "                                          right_on=['country',\n",
    "                                                    'country_code',\n",
    "                                                    'population',\n",
    "                                                    'gdp_per_capita']).drop(columns=['country',\n",
    "                                                                                     'country_code',\n",
    "                                                                                     'population',\n",
    "                                                                                     'gdp_per_capita'])\n",
    "c_olympic_medals"
   ]
  },
  {
   "cell_type": "markdown",
   "metadata": {},
   "source": [
    "## 2.4. Create 'medal' table\n",
    "* medal_id (Primary key ) 🔑 \n",
    "* medal"
   ]
  },
  {
   "cell_type": "code",
   "execution_count": null,
   "metadata": {},
   "outputs": [],
   "source": [
    "#Medal\n",
    "medal = c_olympic_medals[['medal']]\n",
    "medal = medal.drop_duplicates()\n",
    "medal = medal.reset_index(drop=True)\n",
    "medal = medal.reset_index().rename(columns={'index': 'medal_id'})\n",
    "medal"
   ]
  },
  {
   "cell_type": "code",
   "execution_count": null,
   "metadata": {},
   "outputs": [],
   "source": [
    "m_olympic_medals = c_olympic_medals.merge(medal,\n",
    "                                          how='left',\n",
    "                                          left_on=['medal'],\n",
    "                                          right_on=['medal']).drop(columns=['medal'])\n",
    "m_olympic_medals"
   ]
  },
  {
   "cell_type": "markdown",
   "metadata": {},
   "source": [
    "## 2.5. Create 'discipline' table\n",
    "* discipline (primary key) 🔑 \n",
    "* discipline \n",
    "* sport_id (foreign key)"
   ]
  },
  {
   "cell_type": "code",
   "execution_count": null,
   "metadata": {},
   "outputs": [],
   "source": [
    "#discipline\n",
    "discipline = m_olympic_medals[['discipline','sport_id']]\n",
    "discipline = discipline.drop_duplicates()\n",
    "discipline = discipline.reset_index(drop=True)\n",
    "discipline = discipline.reset_index().rename(columns={'index': 'discipline_id'})\n",
    "discipline"
   ]
  },
  {
   "cell_type": "code",
   "execution_count": null,
   "metadata": {},
   "outputs": [],
   "source": [
    "#merge table\n",
    "d_olympic_medals = m_olympic_medals.merge(discipline,\n",
    "                                          how='left',\n",
    "                                          left_on=['discipline',\n",
    "                                                   'sport_id'], \n",
    "                                          right_on=['discipline',\n",
    "                                                    'sport_id']).drop(columns=['discipline', \n",
    "                                                                               'sport_id'])\n",
    "d_olympic_medals"
   ]
  },
  {
   "cell_type": "markdown",
   "metadata": {},
   "source": [
    "## 2.6. Create 'athlete' table\n",
    "* athlete_id (primary_key) 🔑 \n",
    "* athlete\n",
    "* gender\n",
    "* country_id (foreign key)"
   ]
  },
  {
   "cell_type": "code",
   "execution_count": null,
   "metadata": {},
   "outputs": [],
   "source": [
    "#athlete\n",
    "athlete = d_olympic_medals[['athlete','gender','country_id']]\n",
    "athlete = athlete.drop_duplicates()\n",
    "athlete = athlete.reset_index(drop=True)\n",
    "athlete = athlete.reset_index().rename(columns={'index': 'athlete_id'})\n",
    "athlete"
   ]
  },
  {
   "cell_type": "code",
   "execution_count": null,
   "metadata": {},
   "outputs": [],
   "source": [
    "#merge table\n",
    "a_olympic_medals = d_olympic_medals.merge(athlete,\n",
    "                                          how='left',\n",
    "                                          left_on=['athlete',\n",
    "                                                   'gender',\n",
    "                                                   'country_id'],\n",
    "                                          right_on=['athlete',\n",
    "                                                    'gender',\n",
    "                                                    'country_id']).drop(columns=['athlete',\n",
    "                                                                                 'gender',\n",
    "                                                                                 'country_id'])\n",
    "\n",
    "a_olympic_medals"
   ]
  },
  {
   "cell_type": "markdown",
   "metadata": {},
   "source": [
    "## 2.7. Create 'event' table\n",
    "* event_id (primary key) 🔑 \n",
    "* event\n",
    "* discipline_id (foreign key)\n",
    "* olympic_id (foreign key)"
   ]
  },
  {
   "cell_type": "code",
   "execution_count": null,
   "metadata": {},
   "outputs": [],
   "source": [
    "#Event\n",
    "event = a_olympic_medals[['event','discipline_id','olympic_id']]\n",
    "event = event.drop_duplicates()\n",
    "event = event.reset_index(drop=True)\n",
    "event = event.reset_index().rename(columns={'index': 'event_id'})\n",
    "event"
   ]
  },
  {
   "cell_type": "code",
   "execution_count": null,
   "metadata": {},
   "outputs": [],
   "source": [
    "#merge table\n",
    "e_olympic_medals = a_olympic_medals.merge(event,\n",
    "                                          how='left',\n",
    "                                          left_on=['event',\n",
    "                                                   'discipline_id',\n",
    "                                                   'olympic_id'], \n",
    "                                          right_on=['event',\n",
    "                                                    'discipline_id',\n",
    "                                                    'olympic_id']).drop(columns=['event',\n",
    "                                                                                 'discipline_id',\n",
    "                                                                                 'olympic_id'])\n",
    "\n",
    "e_olympic_medals"
   ]
  },
  {
   "cell_type": "markdown",
   "metadata": {},
   "source": [
    "## 2.8. Create 'participation' table - \n",
    "***important***\n",
    "* participation_id (primary key) 🔑 \n",
    "* medal_id (foreign key)\n",
    "* athlete_id (foreign key)\n",
    "* event_id (foreign key)"
   ]
  },
  {
   "cell_type": "code",
   "execution_count": null,
   "metadata": {},
   "outputs": [],
   "source": [
    "#Participation\n",
    "participation = e_olympic_medals\n",
    "participation = participation.drop_duplicates()\n",
    "participation = participation.reset_index(drop=True)\n",
    "participation = participation.reset_index().rename(columns={'index': 'participation_id'})\n",
    "participation"
   ]
  },
  {
   "cell_type": "markdown",
   "metadata": {},
   "source": [
    "# 2c. Create big table and Insert data into tables generated in 2a"
   ]
  },
  {
   "cell_type": "code",
   "execution_count": null,
   "metadata": {},
   "outputs": [],
   "source": [
    "#Using SQL Alchemy \n",
    "import sqlalchemy as sqla\n",
    "import urllib #this library helps with making a connection"
   ]
  },
  {
   "cell_type": "code",
   "execution_count": null,
   "metadata": {},
   "outputs": [],
   "source": [
    "#Set up the connection details\n",
    "conn_details = urllib.parse.quote_plus('''DRIVER={ODBC Driver 15 for SQL Server};\n",
    "                                          SERVER=lcb-dmfa-sql.uccob.uc.edu;\n",
    "                                          DATABASE=LCB-DMFA-015;\n",
    "                                          UID=LCB-DMFA-015;PWD=HY#597mm''')\n",
    "#Now we have to create an SQL Alchemy Engine Object\n",
    "db = sqla.create_engine(\"mssql+pyodbc:///?odbc_connect=%s\" % conn_details)\n",
    "#Then we create an SQL Alchemy Connection from an Engine Object\n",
    "conn = db.connect()"
   ]
  },
  {
   "cell_type": "code",
   "execution_count": null,
   "metadata": {},
   "outputs": [],
   "source": [
    "#Now that we have that, we can create table, but we have to drop them in case we re-add table over \n",
    "# and over while running.\n",
    "try:\n",
    "    conn.execute('DROP TABLE final_project.participation')\n",
    "except:\n",
    "    pass\n",
    "try:\n",
    "    conn.execute('DROP TABLE final_project.athlete')\n",
    "except:\n",
    "    pass\n",
    "try:\n",
    "    conn.execute('DROP TABLE final_project.event')\n",
    "except:\n",
    "    pass\n",
    "try:\n",
    "    conn.execute('DROP TABLE final_project.discipline')\n",
    "except:\n",
    "    pass\n",
    "try:\n",
    "    conn.execute('DROP TABLE final_project.medal')\n",
    "except:\n",
    "    pass\n",
    "try:\n",
    "    conn.execute('DROP TABLE final_project.country')\n",
    "except:\n",
    "    pass\n",
    "try:\n",
    "    conn.execute('DROP TABLE final_project.sport')\n",
    "except:\n",
    "    pass\n",
    "try:\n",
    "    conn.execute('DROP TABLE final_project.olympic')\n",
    "except:\n",
    "    pass\n",
    "try:\n",
    "    conn.execute('DROP SCHEMA final_project')\n",
    "except:\n",
    "    pass"
   ]
  },
  {
   "cell_type": "code",
   "execution_count": null,
   "metadata": {},
   "outputs": [],
   "source": [
    "#Finally, we can identify table name, primary or/and foreign key, and table attributes. \n",
    "conn.execute('CREATE SCHEMA final_project')\n",
    "conn.execute('''\n",
    "    CREATE TABLE final_project.olympic (\n",
    "        olympic_id INT,\n",
    "        games TEXT,\n",
    "        year INT,\n",
    "        city TEXT,\n",
    "        PRIMARY KEY (olympic_id)\n",
    "    )\n",
    "''')\n",
    "conn.execute('''\n",
    "    CREATE TABLE final_project.sport (\n",
    "        sport_id INT,\n",
    "        sport TEXT,\n",
    "        PRIMARY KEY (sport_id)\n",
    "    )\n",
    "''')\n",
    "conn.execute('''\n",
    "    CREATE TABLE final_project.country (\n",
    "        country_id INT,\n",
    "        country TEXT,\n",
    "        country_code VARCHAR(3),\n",
    "        population INT,\n",
    "        gdp_per_capita DECIMAL(30, 12),\n",
    "        PRIMARY KEY (country_id)\n",
    "    )\n",
    "''')\n",
    "conn.execute('''\n",
    "    CREATE TABLE final_project.medal (\n",
    "        medal_id INT,\n",
    "        medal TEXT,\n",
    "        PRIMARY KEY (medal_id)\n",
    "    )\n",
    "''')\n",
    "conn.execute('''\n",
    "    CREATE TABLE final_project.discipline (\n",
    "        discipline_id INT,\n",
    "        sport_id INT,\n",
    "        discipline TEXT,\n",
    "        PRIMARY KEY (discipline_id),\n",
    "        FOREIGN KEY (sport_id) REFERENCES final_project.sport (sport_id)\n",
    "    )\n",
    "''')\n",
    "conn.execute('''\n",
    "    CREATE TABLE final_project.event (\n",
    "        event_id INT,\n",
    "        discipline_id INT,\n",
    "        olympic_id INT,\n",
    "        event TEXT,\n",
    "        PRIMARY KEY (event_id),\n",
    "        FOREIGN KEY (discipline_id) REFERENCES final_project.discipline (discipline_id),\n",
    "        FOREIGN KEY (olympic_id) REFERENCES final_project.olympic (olympic_id)\n",
    "    )\n",
    "''')\n",
    "conn.execute('''\n",
    "    CREATE TABLE final_project.athlete (\n",
    "        athlete_id INT,\n",
    "        country_id INT,\n",
    "        athlete TEXT,\n",
    "        gender TEXT,\n",
    "        PRIMARY KEY (athlete_id),\n",
    "        FOREIGN KEY (country_id) REFERENCES final_project.country (country_id)\n",
    "    )\n",
    "''')\n",
    "conn.execute('''\n",
    "    CREATE TABLE final_project.participation (\n",
    "        participation_id INT,\n",
    "        athlete_id INT,\n",
    "        event_id INT,\n",
    "        medal_id INT,\n",
    "        PRIMARY KEY (participation_id),\n",
    "        FOREIGN KEY (athlete_id) REFERENCES final_project.athlete (athlete_id),\n",
    "        FOREIGN KEY (event_id) REFERENCES final_project.event (event_id),\n",
    "        FOREIGN KEY (medal_id) REFERENCES final_project.medal (medal_id)\n",
    "    )\n",
    "''')"
   ]
  },
  {
   "cell_type": "code",
   "execution_count": null,
   "metadata": {},
   "outputs": [],
   "source": [
    "#insert the new row into the final_project schema\n",
    "#if the table exists, just add the new row, do not delete the table first\n",
    "#do not write the dataFrame row index in the table\n",
    "#we use chunksize because we want to speed up the running time \n",
    "try:\n",
    "    olympic.to_sql('olympic',\n",
    "                   conn,\n",
    "                   schema='final_project',\n",
    "                   if_exists='append',\n",
    "                   index=False,\n",
    "                   chunksize=100,\n",
    "                   method='multi')\n",
    "except Exception as e:\n",
    "    print(e)\n",
    "try:\n",
    "    sport.to_sql('sport',\n",
    "                 conn,\n",
    "                 schema='final_project',\n",
    "                 if_exists='append',\n",
    "                 index=False,\n",
    "                 chunksize=100,\n",
    "                 method='multi')\n",
    "except Exception as e:\n",
    "    print(e)\n",
    "try:\n",
    "    country.to_sql('country',\n",
    "                   conn,\n",
    "                   schema='final_project',\n",
    "                   if_exists='append',\n",
    "                   index=False,\n",
    "                   chunksize=100,\n",
    "                   method='multi')\n",
    "except Exception as e:\n",
    "    print(e)\n",
    "try:\n",
    "    medal.to_sql('medal',\n",
    "                 conn,\n",
    "                 schema='final_project',\n",
    "                 if_exists='append',\n",
    "                 index=False,\n",
    "                 chunksize=100,\n",
    "                 method='multi')\n",
    "except Exception as e:\n",
    "    print(e)\n",
    "try:\n",
    "    discipline.to_sql('discipline',\n",
    "                      conn,\n",
    "                      schema='final_project',\n",
    "                      if_exists='append',\n",
    "                      index=False,\n",
    "                      chunksize=100,\n",
    "                      method='multi')\n",
    "except Exception as e:\n",
    "    print(e)\n",
    "try:\n",
    "    event.to_sql('event',\n",
    "                 conn,\n",
    "                 schema='final_project',\n",
    "                 if_exists='append',\n",
    "                 index=False,\n",
    "                 chunksize=100,\n",
    "                 method='multi')\n",
    "except Exception as e:\n",
    "    print(e)\n",
    "try:\n",
    "    athlete.to_sql('athlete',\n",
    "                   conn,\n",
    "                   schema='final_project',\n",
    "                   if_exists='append',\n",
    "                   chunksize=100,\n",
    "                   method='multi',\n",
    "                   index=False)\n",
    "except Exception as e:\n",
    "    print(e)\n",
    "try:\n",
    "    participation.to_sql('participation',\n",
    "                         conn,\n",
    "                         schema='final_project',\n",
    "                         if_exists='append',\n",
    "                         chunksize=100,\n",
    "                         method='multi',\n",
    "                         index=False)\n",
    "except Exception as e:\n",
    "    print(e)"
   ]
  },
  {
   "cell_type": "code",
   "execution_count": null,
   "metadata": {},
   "outputs": [],
   "source": [
    "#Now that we have that, we can run a select statement into a dataframe\n",
    "pd.read_sql('SELECT * FROM final_project.event', conn)"
   ]
  },
  {
   "cell_type": "code",
   "execution_count": null,
   "metadata": {},
   "outputs": [],
   "source": [
    "#be sure to close the connection and dispose of the engine\n",
    "conn.close() #close connection\n",
    "db.dispose() #close engine"
   ]
  }
 ],
 "metadata": {
  "kernelspec": {
   "display_name": "Python 3",
   "language": "python",
   "name": "python3"
  },
  "language_info": {
   "codemirror_mode": {
    "name": "ipython",
    "version": 3
   },
   "file_extension": ".py",
   "mimetype": "text/x-python",
   "name": "python",
   "nbconvert_exporter": "python",
   "pygments_lexer": "ipython3",
   "version": "3.8.3"
  }
 },
 "nbformat": 4,
 "nbformat_minor": 4
}
